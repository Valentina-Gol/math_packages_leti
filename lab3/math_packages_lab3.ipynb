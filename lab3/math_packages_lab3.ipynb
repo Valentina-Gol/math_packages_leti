{
  "nbformat": 4,
  "nbformat_minor": 0,
  "metadata": {
    "colab": {
      "name": "math_packages_lab3.ipynb",
      "provenance": [],
      "collapsed_sections": [],
      "authorship_tag": "ABX9TyOI+a8Bm862+epU+UAhCR50"
    },
    "kernelspec": {
      "name": "python3",
      "display_name": "Python 3"
    },
    "language_info": {
      "name": "python"
    }
  },
  "cells": [
    {
      "cell_type": "markdown",
      "metadata": {
        "id": "84l3K2Zv4RTx"
      },
      "source": [
        "# Лабораторная работа №3"
      ]
    },
    {
      "cell_type": "markdown",
      "metadata": {
        "id": "dw4EOeCd4YBp"
      },
      "source": [
        "## Цель работы\n",
        "\n",
        "Практическое применение библиотеки символьных вычислений Python (SymPy) для решения задач дискретной математики и математической логики."
      ]
    },
    {
      "cell_type": "markdown",
      "metadata": {
        "id": "YfE2_NBY4j8k"
      },
      "source": [
        "## Задачи\n",
        "1 Решить свой вариант диофантова уравнения.  \n",
        "2 Имея открытую часть ключа RSA найти соответствующую закрытую часть и\n",
        "расшифровать кодированное слово.  \n",
        "3 Записать в формате ДНФ и КНФ булеву функцию, заданную своим аналитическим\n",
        "выражением.\n",
        "\n",
        "Вариант 3"
      ]
    },
    {
      "cell_type": "markdown",
      "metadata": {
        "id": "ENlPT_Za4mzR"
      },
      "source": [
        "## Решение диафантова уравнения\n",
        "\n",
        "2601x − 3859y = 153"
      ]
    },
    {
      "cell_type": "code",
      "metadata": {
        "colab": {
          "base_uri": "https://localhost:8080/"
        },
        "id": "Jt7C9f8r45tC",
        "outputId": "36f73eeb-bc69-4cd8-a3dc-59970ba44466"
      },
      "source": [
        "from sympy.solvers.diophantine import diophantine\n",
        "from sympy import symbols\n",
        "x, y, z = symbols(\"x, y, z\", integer=True)\n",
        "diophantine(2601*x - 3859*y - 153)"
      ],
      "execution_count": null,
      "outputs": [
        {
          "output_type": "execute_result",
          "data": {
            "text/plain": [
              "{(227*t_0 + 414, 153*t_0 + 279)}"
            ]
          },
          "metadata": {},
          "execution_count": 1
        }
      ]
    },
    {
      "cell_type": "markdown",
      "metadata": {
        "id": "27FL_paAO-pi"
      },
      "source": [
        "Ответ: (414, 279)"
      ]
    },
    {
      "cell_type": "markdown",
      "metadata": {
        "id": "S4Qwqy_746GI"
      },
      "source": [
        "## Расшифровка слова\n",
        "\n",
        "Русское слово из четырех букв закодировано при помощи алгоритма RSA открытым ключом (e = 15, m = 46).\n",
        "Шифрованное сообщение имеет вид (28; 4; 37; 33). Подберите закрытую часть ключа и прочитайте исходное слово.\n",
        "Буквам русского алфавита соответсвуют числа в диапазоне от 2 до 32 (исключены буквы “ё” и “ъ”)."
      ]
    },
    {
      "cell_type": "code",
      "metadata": {
        "colab": {
          "base_uri": "https://localhost:8080/"
        },
        "id": "kyX10oaB4-05",
        "outputId": "54e3afb7-f734-4f0e-f89e-5dc22e567801"
      },
      "source": [
        "from sympy.crypto.crypto import decipher_rsa\n",
        "from sympy.crypto.crypto import rsa_private_key\n",
        "p, q, e = 23, 2, 15\n",
        "prk = rsa_private_key(p, q, e)\n",
        "print(decipher_rsa(28, prk), decipher_rsa(4, prk), decipher_rsa(37, prk), decipher_rsa(33, prk))"
      ],
      "execution_count": null,
      "outputs": [
        {
          "output_type": "stream",
          "name": "stdout",
          "text": [
            "10 18 7 11\n"
          ]
        }
      ]
    },
    {
      "cell_type": "markdown",
      "metadata": {
        "id": "eZxSuXvCNvz4"
      },
      "source": [
        "Закодированное слово:  ирей"
      ]
    },
    {
      "cell_type": "markdown",
      "metadata": {
        "id": "Yqmp5um44_CK"
      },
      "source": [
        "## Запись булевой функции в ДНФ и КНФ\n",
        "\n",
        "f(x, y, z) = ((y xor x)(xz)) ∨ (x xor (z ∨ y))"
      ]
    },
    {
      "cell_type": "code",
      "metadata": {
        "colab": {
          "base_uri": "https://localhost:8080/"
        },
        "id": "z-IDaaQB5Fvy",
        "outputId": "edcae98a-974f-4231-a354-291781f1718c"
      },
      "source": [
        "from sympy.logic.boolalg import to_cnf, to_dnf\n",
        "from sympy.abc import A, B, C\n",
        "from sympy.logic.boolalg import Xor\n",
        "print(\"CNF\", to_cnf(((Xor(B, A)) & (A & C)) | (Xor(A, (C | B)))))\n",
        "print(\"DNF\", to_dnf(((Xor(B, A)) & (A & C)) | (Xor(A, (C | B)))))"
      ],
      "execution_count": null,
      "outputs": [
        {
          "output_type": "stream",
          "name": "stdout",
          "text": [
            "CNF (A | B | C) & (~A | ~B) & (A | ~A | ~B) & (A | ~A | ~C) & (C | ~A | ~B) & (C | ~A | ~C) & (~A | ~B | ~C) & (A | B | ~A | ~B) & (A | B | ~A | ~C) & (A | B | C | ~A | ~B)\n",
            "DNF (A & ~A) | (B & ~A) | (C & ~A) | (A & C & ~A) | (A & C & ~B) | (A & ~B & ~C) | (B & ~B & ~C) | (C & ~B & ~C) | (A & B & C & ~A) | (A & B & C & ~B)\n"
          ]
        }
      ]
    },
    {
      "cell_type": "markdown",
      "source": [
        "# Выводы\n",
        "\n",
        "В ходе выполнения работы были изучены и практически применены библиотеки символьных вычислений Python (SymPy) для решения задач дискретной математики и математической логики."
      ],
      "metadata": {
        "id": "3BlL6Z5TASL0"
      }
    }
  ]
}